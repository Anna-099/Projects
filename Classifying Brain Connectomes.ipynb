{
 "cells": [
  {
   "cell_type": "markdown",
   "id": "33ae0247-dc8d-4803-b55b-9738b2b59a76",
   "metadata": {},
   "source": [
    "The objective of the project is to classify healthy individuals from people affected by schizophrenia. \n",
    "We have 86 functional connectomes from 86 subjects. Among them, 46 are from healthy controls and 40 are from schizophrenic individuals."
   ]
  },
  {
   "cell_type": "code",
   "execution_count": 1,
   "id": "1c4df4c2-e1e7-46c4-85e4-5c9dc990bc53",
   "metadata": {},
   "outputs": [
    {
     "name": "stderr",
     "output_type": "stream",
     "text": [
      "INFO: Note: NumExpr detected 14 cores but \"NUMEXPR_MAX_THREADS\" not set, so enforcing safe limit of 8.\n",
      "INFO: NumExpr defaulting to 8 threads.\n"
     ]
    },
    {
     "name": "stdout",
     "output_type": "stream",
     "text": [
      "There are 86 connectomes:46 healthy controls and 40 schizoprenic patients.\n"
     ]
    }
   ],
   "source": [
    "#!pip install geomstats\n",
    "import numpy as np\n",
    "import matplotlib.pyplot as plt\n",
    "import geomstats.datasets.utils as data_utils\n",
    "\n",
    "data, _, labels= data_utils.load_connectomes()\n",
    "print(f\"There are {len(data)} connectomes:\"\n",
    "      f\"{sum(labels==0)} healthy controls and {sum(labels==1)} schizoprenic patients.\")"
   ]
  },
  {
   "cell_type": "markdown",
   "id": "cb593e3d-2d39-47fe-888c-dfab6424c80b",
   "metadata": {},
   "source": [
    "The brains have been divided in 28 areas. To quantify the distance between two connectomes, each connectome can be represented as a correlation matrix, which is a Symmetric Positve Definite (SPD) matrix. A common way to compare SPD matrices is the \"manifold\" of SPD matrices: we compute their distance from each other on the manifold. In this case the connectomes are 28 x 28 matrices."
   ]
  },
  {
   "cell_type": "code",
   "execution_count": 3,
   "id": "a564f1b7-70a3-49d1-ad13-c146c35ff48c",
   "metadata": {},
   "outputs": [
    {
     "data": {
      "image/png": "[encoded data removed]",
      "text/plain": [
       "<Figure size 800x400 with 2 Axes>"
      ]
     },
     "metadata": {},
     "output_type": "display_data"
    }
   ],
   "source": [
    "#Inspect the data: plotting the first two connectors\n",
    "labels_str =[\"Healthy\",\"Schizophrenic\"]\n",
    "\n",
    "fig= plt.figure(figsize=(8,4))\n",
    "\n",
    "ax=fig.add_subplot(121)\n",
    "imgplot=ax.imshow(data[0]);ax.set_title(labels_str[labels[0]])\n",
    "ax=fig.add_subplot(122)\n",
    "imgplot=ax.imshow(data[1]);ax.set_title(labels_str[labels[1]])\n",
    "\n",
    "plt.show()"
   ]
  },
  {
   "cell_type": "markdown",
   "id": "92c9ba05-9977-4e61-839f-500fba8a9b70",
   "metadata": {},
   "source": [
    "Each entry in these graphs represent a connection between two brain regions. The darkness of the square represents the strenght of the connection between the brain regions. The diagonal is the connection between each brain region with itself.\n",
    "We want to verify that the Connectomes in the dataset actually belong to the Manifold of SPD (Symmetric Positive Definite) Matrices."
   ]
  },
  {
   "cell_type": "code",
   "execution_count": 5,
   "id": "a6ce0416-65ca-4661-9ced-fcd5d53d5dd0",
   "metadata": {},
   "outputs": [
    {
     "data": {
      "text/plain": [
       "array([ True,  True,  True,  True,  True,  True,  True,  True,  True,\n",
       "        True,  True,  True,  True,  True,  True,  True,  True,  True,\n",
       "        True,  True,  True,  True,  True,  True,  True,  True,  True,\n",
       "        True,  True,  True,  True,  True,  True,  True,  True,  True,\n",
       "        True,  True,  True,  True,  True,  True,  True,  True,  True,\n",
       "        True,  True,  True,  True,  True,  True,  True,  True,  True,\n",
       "        True,  True,  True,  True,  True,  True,  True,  True,  True,\n",
       "        True,  True,  True,  True,  True,  True,  True,  True,  True,\n",
       "        True,  True,  True,  True,  True,  True,  True,  True,  True,\n",
       "        True,  True,  True,  True,  True])"
      ]
     },
     "execution_count": 5,
     "metadata": {},
     "output_type": "execute_result"
    }
   ],
   "source": [
    "from geomstats.geometry.spd_matrices import SPDMatrices\n",
    "\n",
    "spd_manifold =SPDMatrices (n=28, equip=True) #create the manifold object\n",
    "spd_manifold.belongs(data) #checks if the data fall on the manifold"
   ]
  },
  {
   "cell_type": "markdown",
   "id": "c8f6abb7-d7ca-42b3-b77f-4ee724c08ae9",
   "metadata": {},
   "source": [
    "For the classification, we use the Riemannian Minimum Distance to Mean Classifier. In the training phase we compute the mean of each class and in the testing phase we give the label to the class whose mean is the closest to the new data point."
   ]
  },
  {
   "cell_type": "code",
   "execution_count": 7,
   "id": "1e58efa0-3dfb-4eea-b791-033d99ca4a19",
   "metadata": {},
   "outputs": [],
   "source": [
    "#Create our Classifier object\n",
    "from geomstats.learning.mdm import RiemannianMinimumDistanceToMean\n",
    "\n",
    "#define the mdm model\n",
    "mdm=RiemannianMinimumDistanceToMean(space=spd_manifold)\n",
    "mdm.classes_=2"
   ]
  },
  {
   "cell_type": "code",
   "execution_count": 9,
   "id": "a9ab9ab0-0e53-4592-ad04-25290ae7169e",
   "metadata": {},
   "outputs": [
    {
     "name": "stdout",
     "output_type": "stream",
     "text": [
      "The dataset has 86 connectomes.\n",
      "The train set has 64 connectomes and has size (64, 28, 28).\n",
      "The test set has 22 connectomes and has size (22, 28, 28).\n"
     ]
    }
   ],
   "source": [
    "#we split the dataset into a train and a test set\n",
    "from sklearn.model_selection import train_test_split\n",
    "\n",
    "X=data;y=labels\n",
    "X_train, X_test, y_train, y_test = train_test_split(X,y,random_state=47)\n",
    "\n",
    "print(f\"The dataset has {len(X)} connectomes.\")\n",
    "print(f\"The train set has {len(X_train)} connectomes and has size {X_train.shape}.\")\n",
    "print(f\"The test set has {len(X_test)} connectomes and has size {X_test.shape}.\")"
   ]
  },
  {
   "cell_type": "code",
   "execution_count": 11,
   "id": "3817f626-f908-4589-8c66-3be1d5621a1f",
   "metadata": {},
   "outputs": [
    {
     "data": {
      "text/html": [
       "<style>#sk-container-id-1 {\n",
       "  /* Definition of color scheme common for light and dark mode */\n",
       "  --sklearn-color-text: black;\n",
       "  --sklearn-color-line: gray;\n",
       "  /* Definition of color scheme for unfitted estimators */\n",
       "  --sklearn-color-unfitted-level-0: #fff5e6;\n",
       "  --sklearn-color-unfitted-level-1: #f6e4d2;\n",
       "  --sklearn-color-unfitted-level-2: #ffe0b3;\n",
       "  --sklearn-color-unfitted-level-3: chocolate;\n",
       "  /* Definition of color scheme for fitted estimators */\n",
       "  --sklearn-color-fitted-level-0: #f0f8ff;\n",
       "  --sklearn-color-fitted-level-1: #d4ebff;\n",
       "  --sklearn-color-fitted-level-2: #b3dbfd;\n",
       "  --sklearn-color-fitted-level-3: cornflowerblue;\n",
       "\n",
       "  /* Specific color for light theme */\n",
       "  --sklearn-color-text-on-default-background: var(--sg-text-color, var(--theme-code-foreground, var(--jp-content-font-color1, black)));\n",
       "  --sklearn-color-background: var(--sg-background-color, var(--theme-background, var(--jp-layout-color0, white)));\n",
       "  --sklearn-color-border-box: var(--sg-text-color, var(--theme-code-foreground, var(--jp-content-font-color1, black)));\n",
       "  --sklearn-color-icon: #696969;\n",
       "\n",
       "  @media (prefers-color-scheme: dark) {\n",
       "    /* Redefinition of color scheme for dark theme */\n",
       "    --sklearn-color-text-on-default-background: var(--sg-text-color, var(--theme-code-foreground, var(--jp-content-font-color1, white)));\n",
       "    --sklearn-color-background: var(--sg-background-color, var(--theme-background, var(--jp-layout-color0, #111)));\n",
       "    --sklearn-color-border-box: var(--sg-text-color, var(--theme-code-foreground, var(--jp-content-font-color1, white)));\n",
       "    --sklearn-color-icon: #878787;\n",
       "  }\n",
       "}\n",
       "\n",
       "#sk-container-id-1 {\n",
       "  color: var(--sklearn-color-text);\n",
       "}\n",
       "\n",
       "#sk-container-id-1 pre {\n",
       "  padding: 0;\n",
       "}\n",
       "\n",
       "#sk-container-id-1 input.sk-hidden--visually {\n",
       "  border: 0;\n",
       "  clip: rect(1px 1px 1px 1px);\n",
       "  clip: rect(1px, 1px, 1px, 1px);\n",
       "  height: 1px;\n",
       "  margin: -1px;\n",
       "  overflow: hidden;\n",
       "  padding: 0;\n",
       "  position: absolute;\n",
       "  width: 1px;\n",
       "}\n",
       "\n",
       "#sk-container-id-1 div.sk-dashed-wrapped {\n",
       "  border: 1px dashed var(--sklearn-color-line);\n",
       "  margin: 0 0.4em 0.5em 0.4em;\n",
       "  box-sizing: border-box;\n",
       "  padding-bottom: 0.4em;\n",
       "  background-color: var(--sklearn-color-background);\n",
       "}\n",
       "\n",
       "#sk-container-id-1 div.sk-container {\n",
       "  /* jupyter's `normalize.less` sets `[hidden] { display: none; }`\n",
       "     but bootstrap.min.css set `[hidden] { display: none !important; }`\n",
       "     so we also need the `!important` here to be able to override the\n",
       "     default hidden behavior on the sphinx rendered scikit-learn.org.\n",
       "     See: https://github.com/scikit-learn/scikit-learn/issues/21755 */\n",
       "  display: inline-block !important;\n",
       "  position: relative;\n",
       "}\n",
       "\n",
       "#sk-container-id-1 div.sk-text-repr-fallback {\n",
       "  display: none;\n",
       "}\n",
       "\n",
       "div.sk-parallel-item,\n",
       "div.sk-serial,\n",
       "div.sk-item {\n",
       "  /* draw centered vertical line to link estimators */\n",
       "  background-image: linear-gradient(var(--sklearn-color-text-on-default-background), var(--sklearn-color-text-on-default-background));\n",
       "  background-size: 2px 100%;\n",
       "  background-repeat: no-repeat;\n",
       "  background-position: center center;\n",
       "}\n",
       "\n",
       "/* Parallel-specific style estimator block */\n",
       "\n",
       "#sk-container-id-1 div.sk-parallel-item::after {\n",
       "  content: \"\";\n",
       "  width: 100%;\n",
       "  border-bottom: 2px solid var(--sklearn-color-text-on-default-background);\n",
       "  flex-grow: 1;\n",
       "}\n",
       "\n",
       "#sk-container-id-1 div.sk-parallel {\n",
       "  display: flex;\n",
       "  align-items: stretch;\n",
       "  justify-content: center;\n",
       "  background-color: var(--sklearn-color-background);\n",
       "  position: relative;\n",
       "}\n",
       "\n",
       "#sk-container-id-1 div.sk-parallel-item {\n",
       "  display: flex;\n",
       "  flex-direction: column;\n",
       "}\n",
       "\n",
       "#sk-container-id-1 div.sk-parallel-item:first-child::after {\n",
       "  align-self: flex-end;\n",
       "  width: 50%;\n",
       "}\n",
       "\n",
       "#sk-container-id-1 div.sk-parallel-item:last-child::after {\n",
       "  align-self: flex-start;\n",
       "  width: 50%;\n",
       "}\n",
       "\n",
       "#sk-container-id-1 div.sk-parallel-item:only-child::after {\n",
       "  width: 0;\n",
       "}\n",
       "\n",
       "/* Serial-specific style estimator block */\n",
       "\n",
       "#sk-container-id-1 div.sk-serial {\n",
       "  display: flex;\n",
       "  flex-direction: column;\n",
       "  align-items: center;\n",
       "  background-color: var(--sklearn-color-background);\n",
       "  padding-right: 1em;\n",
       "  padding-left: 1em;\n",
       "}\n",
       "\n",
       "\n",
       "/* Toggleable style: style used for estimator/Pipeline/ColumnTransformer box that is\n",
       "clickable and can be expanded/collapsed.\n",
       "- Pipeline and ColumnTransformer use this feature and define the default style\n",
       "- Estimators will overwrite some part of the style using the `sk-estimator` class\n",
       "*/\n",
       "\n",
       "/* Pipeline and ColumnTransformer style (default) */\n",
       "\n",
       "#sk-container-id-1 div.sk-toggleable {\n",
       "  /* Default theme specific background. It is overwritten whether we have a\n",
       "  specific estimator or a Pipeline/ColumnTransformer */\n",
       "  background-color: var(--sklearn-color-background);\n",
       "}\n",
       "\n",
       "/* Toggleable label */\n",
       "#sk-container-id-1 label.sk-toggleable__label {\n",
       "  cursor: pointer;\n",
       "  display: block;\n",
       "  width: 100%;\n",
       "  margin-bottom: 0;\n",
       "  padding: 0.5em;\n",
       "  box-sizing: border-box;\n",
       "  text-align: center;\n",
       "}\n",
       "\n",
       "#sk-container-id-1 label.sk-toggleable__label-arrow:before {\n",
       "  /* Arrow on the left of the label */\n",
       "  content: \"▸\";\n",
       "  float: left;\n",
       "  margin-right: 0.25em;\n",
       "  color: var(--sklearn-color-icon);\n",
       "}\n",
       "\n",
       "#sk-container-id-1 label.sk-toggleable__label-arrow:hover:before {\n",
       "  color: var(--sklearn-color-text);\n",
       "}\n",
       "\n",
       "/* Toggleable content - dropdown */\n",
       "\n",
       "#sk-container-id-1 div.sk-toggleable__content {\n",
       "  max-height: 0;\n",
       "  max-width: 0;\n",
       "  overflow: hidden;\n",
       "  text-align: left;\n",
       "  /* unfitted */\n",
       "  background-color: var(--sklearn-color-unfitted-level-0);\n",
       "}\n",
       "\n",
       "#sk-container-id-1 div.sk-toggleable__content.fitted {\n",
       "  /* fitted */\n",
       "  background-color: var(--sklearn-color-fitted-level-0);\n",
       "}\n",
       "\n",
       "#sk-container-id-1 div.sk-toggleable__content pre {\n",
       "  margin: 0.2em;\n",
       "  border-radius: 0.25em;\n",
       "  color: var(--sklearn-color-text);\n",
       "  /* unfitted */\n",
       "  background-color: var(--sklearn-color-unfitted-level-0);\n",
       "}\n",
       "\n",
       "#sk-container-id-1 div.sk-toggleable__content.fitted pre {\n",
       "  /* unfitted */\n",
       "  background-color: var(--sklearn-color-fitted-level-0);\n",
       "}\n",
       "\n",
       "#sk-container-id-1 input.sk-toggleable__control:checked~div.sk-toggleable__content {\n",
       "  /* Expand drop-down */\n",
       "  max-height: 200px;\n",
       "  max-width: 100%;\n",
       "  overflow: auto;\n",
       "}\n",
       "\n",
       "#sk-container-id-1 input.sk-toggleable__control:checked~label.sk-toggleable__label-arrow:before {\n",
       "  content: \"▾\";\n",
       "}\n",
       "\n",
       "/* Pipeline/ColumnTransformer-specific style */\n",
       "\n",
       "#sk-container-id-1 div.sk-label input.sk-toggleable__control:checked~label.sk-toggleable__label {\n",
       "  color: var(--sklearn-color-text);\n",
       "  background-color: var(--sklearn-color-unfitted-level-2);\n",
       "}\n",
       "\n",
       "#sk-container-id-1 div.sk-label.fitted input.sk-toggleable__control:checked~label.sk-toggleable__label {\n",
       "  background-color: var(--sklearn-color-fitted-level-2);\n",
       "}\n",
       "\n",
       "/* Estimator-specific style */\n",
       "\n",
       "/* Colorize estimator box */\n",
       "#sk-container-id-1 div.sk-estimator input.sk-toggleable__control:checked~label.sk-toggleable__label {\n",
       "  /* unfitted */\n",
       "  background-color: var(--sklearn-color-unfitted-level-2);\n",
       "}\n",
       "\n",
       "#sk-container-id-1 div.sk-estimator.fitted input.sk-toggleable__control:checked~label.sk-toggleable__label {\n",
       "  /* fitted */\n",
       "  background-color: var(--sklearn-color-fitted-level-2);\n",
       "}\n",
       "\n",
       "#sk-container-id-1 div.sk-label label.sk-toggleable__label,\n",
       "#sk-container-id-1 div.sk-label label {\n",
       "  /* The background is the default theme color */\n",
       "  color: var(--sklearn-color-text-on-default-background);\n",
       "}\n",
       "\n",
       "/* On hover, darken the color of the background */\n",
       "#sk-container-id-1 div.sk-label:hover label.sk-toggleable__label {\n",
       "  color: var(--sklearn-color-text);\n",
       "  background-color: var(--sklearn-color-unfitted-level-2);\n",
       "}\n",
       "\n",
       "/* Label box, darken color on hover, fitted */\n",
       "#sk-container-id-1 div.sk-label.fitted:hover label.sk-toggleable__label.fitted {\n",
       "  color: var(--sklearn-color-text);\n",
       "  background-color: var(--sklearn-color-fitted-level-2);\n",
       "}\n",
       "\n",
       "/* Estimator label */\n",
       "\n",
       "#sk-container-id-1 div.sk-label label {\n",
       "  font-family: monospace;\n",
       "  font-weight: bold;\n",
       "  display: inline-block;\n",
       "  line-height: 1.2em;\n",
       "}\n",
       "\n",
       "#sk-container-id-1 div.sk-label-container {\n",
       "  text-align: center;\n",
       "}\n",
       "\n",
       "/* Estimator-specific */\n",
       "#sk-container-id-1 div.sk-estimator {\n",
       "  font-family: monospace;\n",
       "  border: 1px dotted var(--sklearn-color-border-box);\n",
       "  border-radius: 0.25em;\n",
       "  box-sizing: border-box;\n",
       "  margin-bottom: 0.5em;\n",
       "  /* unfitted */\n",
       "  background-color: var(--sklearn-color-unfitted-level-0);\n",
       "}\n",
       "\n",
       "#sk-container-id-1 div.sk-estimator.fitted {\n",
       "  /* fitted */\n",
       "  background-color: var(--sklearn-color-fitted-level-0);\n",
       "}\n",
       "\n",
       "/* on hover */\n",
       "#sk-container-id-1 div.sk-estimator:hover {\n",
       "  /* unfitted */\n",
       "  background-color: var(--sklearn-color-unfitted-level-2);\n",
       "}\n",
       "\n",
       "#sk-container-id-1 div.sk-estimator.fitted:hover {\n",
       "  /* fitted */\n",
       "  background-color: var(--sklearn-color-fitted-level-2);\n",
       "}\n",
       "\n",
       "/* Specification for estimator info (e.g. \"i\" and \"?\") */\n",
       "\n",
       "/* Common style for \"i\" and \"?\" */\n",
       "\n",
       ".sk-estimator-doc-link,\n",
       "a:link.sk-estimator-doc-link,\n",
       "a:visited.sk-estimator-doc-link {\n",
       "  float: right;\n",
       "  font-size: smaller;\n",
       "  line-height: 1em;\n",
       "  font-family: monospace;\n",
       "  background-color: var(--sklearn-color-background);\n",
       "  border-radius: 1em;\n",
       "  height: 1em;\n",
       "  width: 1em;\n",
       "  text-decoration: none !important;\n",
       "  margin-left: 1ex;\n",
       "  /* unfitted */\n",
       "  border: var(--sklearn-color-unfitted-level-1) 1pt solid;\n",
       "  color: var(--sklearn-color-unfitted-level-1);\n",
       "}\n",
       "\n",
       ".sk-estimator-doc-link.fitted,\n",
       "a:link.sk-estimator-doc-link.fitted,\n",
       "a:visited.sk-estimator-doc-link.fitted {\n",
       "  /* fitted */\n",
       "  border: var(--sklearn-color-fitted-level-1) 1pt solid;\n",
       "  color: var(--sklearn-color-fitted-level-1);\n",
       "}\n",
       "\n",
       "/* On hover */\n",
       "div.sk-estimator:hover .sk-estimator-doc-link:hover,\n",
       ".sk-estimator-doc-link:hover,\n",
       "div.sk-label-container:hover .sk-estimator-doc-link:hover,\n",
       ".sk-estimator-doc-link:hover {\n",
       "  /* unfitted */\n",
       "  background-color: var(--sklearn-color-unfitted-level-3);\n",
       "  color: var(--sklearn-color-background);\n",
       "  text-decoration: none;\n",
       "}\n",
       "\n",
       "div.sk-estimator.fitted:hover .sk-estimator-doc-link.fitted:hover,\n",
       ".sk-estimator-doc-link.fitted:hover,\n",
       "div.sk-label-container:hover .sk-estimator-doc-link.fitted:hover,\n",
       ".sk-estimator-doc-link.fitted:hover {\n",
       "  /* fitted */\n",
       "  background-color: var(--sklearn-color-fitted-level-3);\n",
       "  color: var(--sklearn-color-background);\n",
       "  text-decoration: none;\n",
       "}\n",
       "\n",
       "/* Span, style for the box shown on hovering the info icon */\n",
       ".sk-estimator-doc-link span {\n",
       "  display: none;\n",
       "  z-index: 9999;\n",
       "  position: relative;\n",
       "  font-weight: normal;\n",
       "  right: .2ex;\n",
       "  padding: .5ex;\n",
       "  margin: .5ex;\n",
       "  width: min-content;\n",
       "  min-width: 20ex;\n",
       "  max-width: 50ex;\n",
       "  color: var(--sklearn-color-text);\n",
       "  box-shadow: 2pt 2pt 4pt #999;\n",
       "  /* unfitted */\n",
       "  background: var(--sklearn-color-unfitted-level-0);\n",
       "  border: .5pt solid var(--sklearn-color-unfitted-level-3);\n",
       "}\n",
       "\n",
       ".sk-estimator-doc-link.fitted span {\n",
       "  /* fitted */\n",
       "  background: var(--sklearn-color-fitted-level-0);\n",
       "  border: var(--sklearn-color-fitted-level-3);\n",
       "}\n",
       "\n",
       ".sk-estimator-doc-link:hover span {\n",
       "  display: block;\n",
       "}\n",
       "\n",
       "/* \"?\"-specific style due to the `<a>` HTML tag */\n",
       "\n",
       "#sk-container-id-1 a.estimator_doc_link {\n",
       "  float: right;\n",
       "  font-size: 1rem;\n",
       "  line-height: 1em;\n",
       "  font-family: monospace;\n",
       "  background-color: var(--sklearn-color-background);\n",
       "  border-radius: 1rem;\n",
       "  height: 1rem;\n",
       "  width: 1rem;\n",
       "  text-decoration: none;\n",
       "  /* unfitted */\n",
       "  color: var(--sklearn-color-unfitted-level-1);\n",
       "  border: var(--sklearn-color-unfitted-level-1) 1pt solid;\n",
       "}\n",
       "\n",
       "#sk-container-id-1 a.estimator_doc_link.fitted {\n",
       "  /* fitted */\n",
       "  border: var(--sklearn-color-fitted-level-1) 1pt solid;\n",
       "  color: var(--sklearn-color-fitted-level-1);\n",
       "}\n",
       "\n",
       "/* On hover */\n",
       "#sk-container-id-1 a.estimator_doc_link:hover {\n",
       "  /* unfitted */\n",
       "  background-color: var(--sklearn-color-unfitted-level-3);\n",
       "  color: var(--sklearn-color-background);\n",
       "  text-decoration: none;\n",
       "}\n",
       "\n",
       "#sk-container-id-1 a.estimator_doc_link.fitted:hover {\n",
       "  /* fitted */\n",
       "  background-color: var(--sklearn-color-fitted-level-3);\n",
       "}\n",
       "</style><div id=\"sk-container-id-1\" class=\"sk-top-container\"><div class=\"sk-text-repr-fallback\"><pre>RiemannianMinimumDistanceToMean(space=&lt;geomstats.geometry.spd_matrices.SPDMatrices object at 0x000001E8878EDC10&gt;)</pre><b>In a Jupyter environment, please rerun this cell to show the HTML representation or trust the notebook. <br />On GitHub, the HTML representation is unable to render, please try loading this page with nbviewer.org.</b></div><div class=\"sk-container\" hidden><div class=\"sk-item\"><div class=\"sk-estimator fitted sk-toggleable\"><input class=\"sk-toggleable__control sk-hidden--visually\" id=\"sk-estimator-id-1\" type=\"checkbox\" checked><label for=\"sk-estimator-id-1\" class=\"sk-toggleable__label fitted sk-toggleable__label-arrow fitted\">&nbsp;RiemannianMinimumDistanceToMean<span class=\"sk-estimator-doc-link fitted\">i<span>Fitted</span></span></label><div class=\"sk-toggleable__content fitted\"><pre>RiemannianMinimumDistanceToMean(space=&lt;geomstats.geometry.spd_matrices.SPDMatrices object at 0x000001E8878EDC10&gt;)</pre></div> </div></div></div></div>"
      ],
      "text/plain": [
       "RiemannianMinimumDistanceToMean(space=<geomstats.geometry.spd_matrices.SPDMatrices object at 0x000001E8878EDC10>)"
      ]
     },
     "execution_count": 11,
     "metadata": {},
     "output_type": "execute_result"
    }
   ],
   "source": [
    "# we train the model mdm to know the Frechet means of each class (two classes)\n",
    "mdm.fit(X_train,y_train)"
   ]
  },
  {
   "cell_type": "code",
   "execution_count": 13,
   "id": "ea34a1e7-d9a2-4eef-9787-314f24d60f99",
   "metadata": {},
   "outputs": [
    {
     "data": {
      "text/plain": [
       "0.7272727272727273"
      ]
     },
     "execution_count": 13,
     "metadata": {},
     "output_type": "execute_result"
    }
   ],
   "source": [
    "#we test, evaluating how well the trained model can predict schizophrenia on data never seen before\n",
    "mdm.score(X_test,y_test)"
   ]
  },
  {
   "cell_type": "markdown",
   "id": "b0812085-b779-4aea-9763-efe7469dce05",
   "metadata": {},
   "source": [
    "What if we computed everything using Euclidean Distance? "
   ]
  },
  {
   "cell_type": "code",
   "execution_count": 15,
   "id": "1f1e5c8e-b4be-40e3-beb7-43a0bc24a5b9",
   "metadata": {},
   "outputs": [
    {
     "name": "stdout",
     "output_type": "stream",
     "text": [
      "The train set has 64 connectomes and has size (64, 784).\n",
      "The test set has 22 connectomes and has size (22, 784).\n"
     ]
    }
   ],
   "source": [
    "#we test it using sklearn NearestCentroid Algorithm \n",
    "#so we reshape each connectome to be a 1D array instead of a 2D array\n",
    "\n",
    "X_train=np.array(X_train.reshape(len(X_train),-1))\n",
    "X_test=np.array(X_test.reshape(len(X_test),-1))\n",
    "\n",
    "print(f\"The train set has {len(X_train)} connectomes and has size {X_train.shape}.\")\n",
    "print(f\"The test set has {len(X_test)} connectomes and has size {X_test.shape}.\")               "
   ]
  },
  {
   "cell_type": "code",
   "execution_count": 17,
   "id": "d19c16d9-5563-4de8-9edb-5f4c67e772cd",
   "metadata": {},
   "outputs": [
    {
     "name": "stderr",
     "output_type": "stream",
     "text": [
      "C:\\Users\\AGuarino\\AppData\\Local\\anaconda3\\Lib\\site-packages\\joblib\\externals\\loky\\backend\\context.py:136: UserWarning: Could not find the number of physical cores for the following reason:\n",
      "[WinError 2] The system cannot find the file specified\n",
      "Returning the number of logical cores instead. You can silence this warning by setting LOKY_MAX_CPU_COUNT to the number of cores you want to use.\n",
      "  warnings.warn(\n",
      "  File \"C:\\Users\\AGuarino\\AppData\\Local\\anaconda3\\Lib\\site-packages\\joblib\\externals\\loky\\backend\\context.py\", line 257, in _count_physical_cores\n",
      "    cpu_info = subprocess.run(\n",
      "               ^^^^^^^^^^^^^^^\n",
      "  File \"C:\\Users\\AGuarino\\AppData\\Local\\anaconda3\\Lib\\subprocess.py\", line 548, in run\n",
      "    with Popen(*popenargs, **kwargs) as process:\n",
      "         ^^^^^^^^^^^^^^^^^^^^^^^^^^^\n",
      "  File \"C:\\Users\\AGuarino\\AppData\\Local\\anaconda3\\Lib\\subprocess.py\", line 1026, in __init__\n",
      "    self._execute_child(args, executable, preexec_fn, close_fds,\n",
      "  File \"C:\\Users\\AGuarino\\AppData\\Local\\anaconda3\\Lib\\subprocess.py\", line 1538, in _execute_child\n",
      "    hp, ht, pid, tid = _winapi.CreateProcess(executable, args,\n",
      "                       ^^^^^^^^^^^^^^^^^^^^^^^^^^^^^^^^^^^^^^^\n"
     ]
    },
    {
     "data": {
      "text/plain": [
       "0.6818181818181818"
      ]
     },
     "execution_count": 17,
     "metadata": {},
     "output_type": "execute_result"
    }
   ],
   "source": [
    "from sklearn.neighbors import NearestCentroid\n",
    "clf=NearestCentroid(metric=\"euclidean\")\n",
    "clf.fit(X_train,y_train)\n",
    "clf.score(X_test,y_test)"
   ]
  },
  {
   "cell_type": "markdown",
   "id": "e8e4d611-439f-4e9d-b088-ce059d13d040",
   "metadata": {},
   "source": [
    "We see that geometry provides a prediction advantage (0.727 vs 0.681)"
   ]
  },
  {
   "cell_type": "markdown",
   "id": "0514019e-046e-4234-aacc-850d0a23ee4f",
   "metadata": {},
   "source": [
    "Now we try to train a Graph Neural network (GNN) on the same data and see how it performs. To do this, we need first to convert our functional connectivity matrices into a format more suitable for graph processing."
   ]
  },
  {
   "cell_type": "code",
   "execution_count": 19,
   "id": "0c5722ac-ff94-4dd7-852f-58db50e03503",
   "metadata": {},
   "outputs": [],
   "source": [
    "#! pip install torch \n",
    "#! pip install torch_geometric\n",
    "import torch # import from pytorch\n",
    "import torch.nn.functional as F\n",
    "from torch_geometric.nn import GCNConv, global_mean_pool\n",
    "from torch_geometric.data import Data\n",
    "from torch_geometric.loader import DataLoader"
   ]
  },
  {
   "cell_type": "code",
   "execution_count": 35,
   "id": "88342374-de48-4eea-bf81-9095a0167004",
   "metadata": {},
   "outputs": [
    {
     "name": "stderr",
     "output_type": "stream",
     "text": [
      "C:\\Users\\AGuarino\\AppData\\Local\\Temp\\ipykernel_2432\\3663277459.py:3: UserWarning: To copy construct from a tensor, it is recommended to use sourceTensor.detach().clone() or sourceTensor.detach().clone().requires_grad_(True), rather than torch.tensor(sourceTensor).\n",
      "  labels=torch.tensor(labels).float()\n"
     ]
    }
   ],
   "source": [
    "#Convert our data into torch tensors\n",
    "connectivity_matrices= torch.tensor(data).float()\n",
    "labels=torch.tensor(labels).float()\n",
    "\n",
    "#Create graph data objects for each matrix\n",
    "data_list=[] #list of the connectivity matrices, one for each patient\n",
    "for i in range(len(connectivity_matrices)):\n",
    "    matrix=connectivity_matrices[i]\n",
    "    edge_index=(matrix>0).nonzero(as_tuple=False).t() #creates edges based on non-zero entries\n",
    "    edge_attr=matrix[edge_index[0],edge_index[1]] #edge weights are the matrix values\n",
    "    x=torch.eye(28) #node features (identity matrix used as a sort of one hot encoding as features)\n",
    "\n",
    "    #Create graph data object\n",
    "    #x are the node features of the graph, feautures associated with each node (brain region) in the graph\n",
    "    #edge_index defines the connections between nodes, represented as pair of indices\n",
    "    #edge_attr are the attributes or weights associated with each edge (strenght of connectivity between nodes). These are the values from the connectivity matrix\n",
    "    #y labels used for classification (healthy or schizophrenic)\n",
    "    graph_data=Data(x=x,edge_index=edge_index,edge_attr=edge_attr,y=labels[i].unsqueeze(0))\n",
    "    data_list.append(graph_data) \n",
    "\n",
    "\n",
    "torch.manual_seed(192024)\n",
    "\n",
    "#Applying a 80:20 train test split (80% of data go into train set and 20% in test set)\n",
    "split_index= int(len(data_list)*0.8)\n",
    "\n",
    "#Manually split the data_list into train and test sets\n",
    "train_data=data_list[:split_index]\n",
    "test_data=data_list[split_index:]\n",
    "    "
   ]
  },
  {
   "cell_type": "code",
   "execution_count": 37,
   "id": "7969b51b-04c8-424c-a5de-f2f5976c5780",
   "metadata": {},
   "outputs": [
    {
     "name": "stdout",
     "output_type": "stream",
     "text": [
      "Number of examples in training data: 68\n",
      "Number of examples in test data: 68\n"
     ]
    },
    {
     "data": {
      "text/plain": [
       "[Data(x=[28, 28], edge_index=[2, 512], edge_attr=[512], y=[1]),\n",
       " Data(x=[28, 28], edge_index=[2, 582], edge_attr=[582], y=[1]),\n",
       " Data(x=[28, 28], edge_index=[2, 544], edge_attr=[544], y=[1]),\n",
       " Data(x=[28, 28], edge_index=[2, 704], edge_attr=[704], y=[1]),\n",
       " Data(x=[28, 28], edge_index=[2, 476], edge_attr=[476], y=[1])]"
      ]
     },
     "execution_count": 37,
     "metadata": {},
     "output_type": "execute_result"
    }
   ],
   "source": [
    "print(\"Number of examples in training data:\",len(train_data))\n",
    "print(\"Number of examples in test data:\",len(train_data))\n",
    "\n",
    "#visualize the first 5 examples of training data\n",
    "train_data[:5]"
   ]
  },
  {
   "cell_type": "markdown",
   "id": "9d543ec3-432a-42fe-96b6-fd9cf8ea2b60",
   "metadata": {},
   "source": [
    "Defining our Graph Neural Network using Graph Convolutional Network (GCN) with 2 layers from PyTorch Geometric\n",
    "Layer 1: Graph Convolution Layer, the input channels are 28, which is the dimension of the node features. The output channels are 16, new feature dimensions produced for each node after the first graph convolution. The activation function is the ReLU(x)=max(0,x), introducing non-linearity and leading to sparse activations (more effcient representations).\n",
    "Layer 2: Graph Convolution Layer, the input channels are 16, feature dimensions from the first layer. The output channel is 1, producing a single output value (logit) for each node since we have a binary classification task, which we can then transform into a probability value (using a sigmoid function)\n",
    "Pooling Layer: Global Mean Pooling, aggregates the node-level features into a single graph-level feature by computing the mean of all the node features in the graph.\n"
   ]
  },
  {
   "cell_type": "code",
   "execution_count": 43,
   "id": "8bcf652d-5473-4171-90aa-02808983bb3e",
   "metadata": {},
   "outputs": [],
   "source": [
    "class GCN(torch.nn.Module):\n",
    "    def __init__(self):\n",
    "        super(GCN,self).__init__()\n",
    "        self.conv1=GCNConv(in_channels=28,out_channels=16) #first layer\n",
    "        self.conv2=GCNConv(in_channels=16,out_channels=1) #second layer\n",
    "        \n",
    "#we also define the forward pass which involves passing the input data through the model to get predictions.\n",
    "    def forward(self,data):\n",
    "        x,edge_index,edge_attr,batch=data.x,data.edge_index,data.edge_attr,data.batch\n",
    "        #First convolution + ReLU Activation\n",
    "        x=self.conv1(x,edge_index,edge_attr)\n",
    "        x=F.relu(x)\n",
    "        #Second convolution\n",
    "        x=self.conv2(x,edge_index,edge_attr)\n",
    "        #Pooling and returning logits\n",
    "        x=global_mean_pool(x,batch) \n",
    "        return x.view(-1) #ensuring output has the correct shape (batch size)"
   ]
  },
  {
   "cell_type": "markdown",
   "id": "c12fbaa6-6f0b-4f4b-9fc7-d4938b761667",
   "metadata": {},
   "source": [
    "Using the data prepared earlier we train the model. We first define the model,set up an optimizer, specify a loss function and then implement a training loop that iteratively updates the model parameters to minimize the loss.\n",
    "As loss function we use the BCEWithLogitsLoss which combines a sigmoid activation with binary cross-entropy loss. It transforms logits into probabilities and then computes the cross-entropy loss.\n",
    "As optimizer (determines how the model weights are updated in response to the computed loss) we use the Adam optimizer (Adaptive Moment Estimation)"
   ]
  },
  {
   "cell_type": "code",
   "execution_count": 45,
   "id": "15e22152-3ee3-4350-a4be-a5b5600aa5dc",
   "metadata": {},
   "outputs": [
    {
     "name": "stdout",
     "output_type": "stream",
     "text": [
      "Epoch:0,Loss:0.6909\n",
      "Epoch:10,Loss:0.6855\n",
      "Epoch:20,Loss:0.6711\n",
      "Epoch:30,Loss:0.6413\n",
      "Epoch:40,Loss:0.6012\n",
      "Epoch:50,Loss:0.5598\n",
      "Epoch:60,Loss:0.4990\n",
      "Epoch:70,Loss:0.4711\n",
      "Epoch:80,Loss:0.4272\n",
      "Epoch:90,Loss:0.3875\n"
     ]
    },
    {
     "data": {
      "image/png": "[encoded data removed]",
      "text/plain": [
       "<Figure size 600x300 with 1 Axes>"
      ]
     },
     "metadata": {},
     "output_type": "display_data"
    }
   ],
   "source": [
    "#Train the model\n",
    "model=GCN() #define model\n",
    "optimizer=torch.optim.Adam(model.parameters(),lr=0.01) #set up optimizer with a learning rate of 0.01\n",
    "criterion=torch.nn.BCEWithLogitsLoss() #define loss function\n",
    "train_loader=DataLoader(train_data,batch_size=8,shuffle=True) #batch size is the number of training example that the model will see before the gradients are updated\n",
    "\n",
    "#training loop\n",
    "def train():\n",
    "    model.train()\n",
    "    total_loss=0\n",
    "    for data in train_loader:#load batches fom data loader\n",
    "        optimizer.zero_grad() #reset gradients\n",
    "        out=model(data)#pass batch through model to get predictions(forward pass)\n",
    "        loss=criterion(out,data.y)#calculate loss between predictions and true labels\n",
    "        loss.backward() #backpropagate the loss to compute gradients\n",
    "        optimizer.step() #update the model parameters using the gradients\n",
    "        total_loss+=loss.item() #accumulate batch loss into total loss\n",
    "    return total_loss/len(train_loader) #return loss average per batch\n",
    "\n",
    "#Train the model for 100 epochs\n",
    "losses=[]\n",
    "for epoch in range(100):\n",
    "    loss=train()\n",
    "    losses.append(loss)\n",
    "    if epoch % 10==0:\n",
    "        print(f'Epoch:{epoch},Loss:{loss:.4f}')\n",
    "epochs=list(range(1,len(losses)+1))\n",
    "\n",
    "#Visualize the loss values\n",
    "plt.figure(figsize=(6,3))\n",
    "plt.plot(epochs,losses,marker='o',linestyle='-', color='b')\n",
    "plt.title('Training Loss over Epochs')\n",
    "plt.xlabel('Epoch')\n",
    "plt.ylabel('Loss')\n",
    "plt.grid(True)\n",
    "plt.show()\n",
    "    \n"
   ]
  },
  {
   "cell_type": "markdown",
   "id": "16cc3dc5-8bdf-4a6e-9228-f1f46ab6f531",
   "metadata": {},
   "source": [
    "Next, we evaluate the model on the test set by calculating the accuracy of our predictions. We also compute a confusion matrix to see the amount of true positives, true negatives, false positives and false negatives."
   ]
  },
  {
   "cell_type": "code",
   "execution_count": 49,
   "id": "68e65988-12de-4f8f-a46b-5ec35c2b85bd",
   "metadata": {},
   "outputs": [
    {
     "name": "stdout",
     "output_type": "stream",
     "text": [
      "Accuracy:0.8889\n"
     ]
    }
   ],
   "source": [
    "test_loader=DataLoader(test_data,batch_size=8,shuffle=False)\n",
    "\n",
    "model.eval()\n",
    "actual_labels=[]\n",
    "predicted_labels=[]\n",
    "\n",
    "correct=0\n",
    "\n",
    "for data in test_loader:\n",
    "    out=model(data)\n",
    "    pred=torch.sigmoid(out)>0.5 #apply sigmoid function to get binary predictions, everything above 0.5 indicate that the patient is schizophrenic\n",
    "    correct +=(pred==data.y).sum().item() #compute how many predictions are correct regarding the test set\n",
    "    actual_labels.extend(data.y.int().tolist())\n",
    "    predicted_labels.extend(pred.tolist())\n",
    "\n",
    "accuracy=correct/len(test_data)\n",
    "print(f'Accuracy:{accuracy:.4f}')\n"
   ]
  },
  {
   "cell_type": "code",
   "execution_count": 57,
   "id": "3e1848df-e731-40cf-97b8-b2f5a386d451",
   "metadata": {},
   "outputs": [
    {
     "data": {
      "image/png": "[encoded data removed]",
      "text/plain": [
       "<Figure size 600x300 with 2 Axes>"
      ]
     },
     "metadata": {},
     "output_type": "display_data"
    }
   ],
   "source": [
    "import seaborn as sns\n",
    "\n",
    "true_positives=0\n",
    "false_positives=0\n",
    "true_negatives=0\n",
    "false_negatives=0\n",
    "\n",
    "for true,predicted in zip(actual_labels,predicted_labels):\n",
    "    if predicted==1 and true==1:\n",
    "        true_positives +=1\n",
    "    elif predicted == 1 and true==0:\n",
    "        false_positives +=1\n",
    "    elif predicted==0 and true==0:\n",
    "        true_negatives+=1\n",
    "    elif predicted==0 and true==1:\n",
    "        false_negatives+=1\n",
    "\n",
    "conf_matrix=np.array([[true_positives,false_negatives],\n",
    "                      [false_positives,true_negatives]])\n",
    "#Define the labels for the confusion matrix\n",
    "labels=[\"Positive\",\"Negative\"]\n",
    "categories=[\"Positive\",\"Negative\"]\n",
    "\n",
    "#Plotting the confusion matrix\n",
    "plt.figure(figsize=(6,3))\n",
    "sns.heatmap(conf_matrix,annot=True,fmt='d',cmap='Blues',xticklabels=labels,yticklabels=categories)\n",
    "plt.title(\"Confusion Matrix\")\n",
    "plt.xlabel(\"Predicted labels\")\n",
    "plt.ylabel(\"True Labels\")\n",
    "plt.show()"
   ]
  },
  {
   "cell_type": "code",
   "execution_count": null,
   "id": "21884f4e-82f2-4078-90ec-0cbc04e863e7",
   "metadata": {},
   "outputs": [],
   "source": []
  }
 ],
 "metadata": {
  "kernelspec": {
   "display_name": "Python [conda env:base] *",
   "language": "python",
   "name": "conda-base-py"
  },
  "language_info": {
   "codemirror_mode": {
    "name": "ipython",
    "version": 3
   },
   "file_extension": ".py",
   "mimetype": "text/x-python",
   "name": "python",
   "nbconvert_exporter": "python",
   "pygments_lexer": "ipython3",
   "version": "3.12.7"
  }
 },
 "nbformat": 4,
 "nbformat_minor": 5
}
